{
 "cells": [
  {
   "cell_type": "markdown",
   "id": "27498656",
   "metadata": {},
   "source": [
    "# DeepSparse + DenseNet"
   ]
  },
  {
   "cell_type": "code",
   "execution_count": null,
   "id": "cce8b28b",
   "metadata": {},
   "outputs": [
    {
     "name": "stdout",
     "output_type": "stream",
     "text": [
      "2023-04-03 12:38:43 deepsparse.benchmark.benchmark_model INFO     Thread pinning to cores enabled\r\n",
      "2023-04-03 12:38:43 deepsparse.benchmark.benchmark_model INFO     num_streams default value chosen of 11. This requires tuning and may be sub-optimal\r\n",
      "DeepSparse Engine, Copyright 2021-present / Neuralmagic, Inc. version: 1.2.0 COMMUNITY EDITION | (45d54d49) (release) (optimized) (system=avx2, binary=avx2)\r\n"
     ]
    }
   ],
   "source": [
    "!deepsparse.benchmark ./densenet-models/dense-model.onnx --batch_size 16"
   ]
  },
  {
   "cell_type": "markdown",
   "id": "414d36b8",
   "metadata": {},
   "source": [
    "## Engine\n",
    "\n",
    "Run inference on raw tensors, get back full vector of logits."
   ]
  },
  {
   "cell_type": "code",
   "execution_count": null,
   "id": "1605cd13",
   "metadata": {},
   "outputs": [],
   "source": [
    "from deepsparse import Engine\n",
    "from deepsparse.utils import generate_random_inputs, model_to_path\n",
    "import numpy as np\n",
    "\n",
    "path = \"./densenet-models/dense-model.onnx\"\n",
    "batch_size = 1\n",
    "\n",
    "engine = Engine(\n",
    "  model=path,   # sparsezoo stub or path to local ONNX\n",
    "  batch_size=batch_size   # defaults to batch size 1\n",
    ")\n",
    "\n",
    "# [array([[-7.73529887e-01,  1.67251182e+00, -1.68212160e-01,\n",
    "# ....\n",
    "# 1.26290070e-05, 2.30549040e-06, 2.97072188e-06, 1.90549777e-04]], dtype=float32)]"
   ]
  },
  {
   "cell_type": "code",
   "execution_count": 11,
   "id": "70ebe1f5",
   "metadata": {},
   "outputs": [
    {
     "name": "stderr",
     "output_type": "stream",
     "text": [
      "2023-04-03 12:26:47 deepsparse.utils.onnx INFO     Generating input 'input', type = float32, shape = [1, 3, 224, 224]\n"
     ]
    },
    {
     "name": "stdout",
     "output_type": "stream",
     "text": [
      "[array([[-5.9961286 , -3.6913133 , -0.71650815, -6.366172  , -5.7710576 ,\n",
      "        -4.352747  , -1.1485898 , -2.4842844 , -2.5070517 , -3.0302014 ,\n",
      "        -8.3222475 , -4.3751597 , -5.1516366 , -0.17141941, -5.332294  ,\n",
      "        -5.165124  , -5.737211  , -5.9024467 , -2.2622533 , -1.3874923 ,\n",
      "        -5.29534   , -4.276548  , -3.1763237 , -4.625947  , -1.0091069 ,\n",
      "        -2.1620252 , -3.135342  , -1.7484905 , -0.11715978, -8.996776  ,\n",
      "        -4.37423   , -6.273718  , -2.8157876 , -6.346661  , -1.4867408 ,\n",
      "        -5.4956837 , -7.525061  , -2.4280655 , -4.844447  , -3.993087  ,\n",
      "        -6.116148  , -4.082147  , -5.1383467 , -6.6527505 , -1.5254427 ,\n",
      "        -6.3994403 , -0.8069641 , -4.289617  , -5.804104  , -3.3769171 ,\n",
      "        -5.3249106 , -4.216     , -3.7745395 , -2.3815982 , -2.0546618 ,\n",
      "        -4.601465  , -1.285475  , -5.5829206 , -4.9123716 , -7.251005  ,\n",
      "        -5.6919127 , -3.8090298 , -4.5336347 , -5.1205845 , -3.309602  ,\n",
      "        -6.464562  , -2.6786277 , -1.4693031 , -6.10542   , -3.5662346 ,\n",
      "        -8.131447  , -6.1531916 , -7.490927  , -2.5115104 , -4.5227194 ,\n",
      "        -2.3105357 , -4.178114  , -4.983922  , -5.1076956 , -1.5260828 ,\n",
      "        -4.847688  , -4.684482  , -5.45026   , -3.8836172 , -5.0502605 ,\n",
      "        -3.62416   , -5.791623  , -4.611048  , -6.5081673 , -3.4514554 ,\n",
      "        -4.4255705 , -6.2762876 , -3.6280508 , -5.592004  , -3.805978  ,\n",
      "        -4.737023  , -5.340069  , -3.151782  , -9.359067  , -6.132395  ,\n",
      "        -2.4662893 , -4.977155  ]], dtype=float32)]\n",
      "(1, 3, 224, 224)\n",
      "(1, 102)\n"
     ]
    }
   ],
   "source": [
    "# input is raw numpy tensors, output is raw scores for classes\n",
    "inputs = generate_random_inputs(model_to_path(path), batch_size)\n",
    "output = engine(inputs)\n",
    "print(output)\n",
    "print(inputs[0].shape)\n",
    "print(output[0].shape)"
   ]
  },
  {
   "cell_type": "markdown",
   "id": "2f20219d",
   "metadata": {},
   "source": [
    "## Pipeline\n",
    "\n",
    "Run inference on unprocessed images, get back post-processed results."
   ]
  },
  {
   "cell_type": "code",
   "execution_count": null,
   "id": "6737fa34",
   "metadata": {
    "scrolled": true
   },
   "outputs": [],
   "source": [
    "from deepsparse import Pipeline\n",
    "\n",
    "# download onnx from sparsezoo and compile with batch size 1\n",
    "path = \"./densenet-models/dense-model.onnx\"\n",
    "batch_size = 1\n",
    "pipeline = Pipeline.create(\n",
    "    task=\"image_classification\",\n",
    "    model_path=path,   # sparsezoo stub or path to local ONNX\n",
    "    batch_size = batch_size\n",
    ")"
   ]
  },
  {
   "cell_type": "code",
   "execution_count": 34,
   "id": "3f6da513",
   "metadata": {},
   "outputs": [
    {
     "name": "stdout",
     "output_type": "stream",
     "text": [
      "labels=[38] scores=[2.2885091304779053]\n"
     ]
    }
   ],
   "source": [
    "# pipeline handles reading from disk and runnning inference\n",
    "image_path = \"./data/flowers-102/jpg/image_07020.jpg\"\n",
    "prediction = pipeline(images=[image_path])\n",
    "print(prediction)"
   ]
  },
  {
   "cell_type": "code",
   "execution_count": 35,
   "id": "d1adb0c6",
   "metadata": {},
   "outputs": [
    {
     "name": "stdout",
     "output_type": "stream",
     "text": [
      "(500, 667, 3)\n",
      "labels=[38] scores=[2.2885091304779053]\n"
     ]
    }
   ],
   "source": [
    "# pass a numpy array\n",
    "from PIL import Image\n",
    "import numpy as np\n",
    "\n",
    "im = Image.open(image_path)\n",
    "im_np = np.asarray(im)\n",
    "print(im_np.shape)\n",
    "\n",
    "# pipeline handles reshaping to 224x224\n",
    "prediction = pipeline(images=[im_np])\n",
    "print(prediction)"
   ]
  }
 ],
 "metadata": {
  "kernelspec": {
   "display_name": "rs-deepsparse-env",
   "language": "python",
   "name": "rs-deepsparse-env"
  },
  "language_info": {
   "codemirror_mode": {
    "name": "ipython",
    "version": 3
   },
   "file_extension": ".py",
   "mimetype": "text/x-python",
   "name": "python",
   "nbconvert_exporter": "python",
   "pygments_lexer": "ipython3",
   "version": "3.10.9"
  }
 },
 "nbformat": 4,
 "nbformat_minor": 5
}
