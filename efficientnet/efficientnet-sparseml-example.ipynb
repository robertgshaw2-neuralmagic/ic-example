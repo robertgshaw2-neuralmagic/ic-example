{
 "cells": [
  {
   "cell_type": "code",
   "execution_count": 1,
   "id": "1ad80edf",
   "metadata": {},
   "outputs": [],
   "source": [
    "import torch, torchvision\n",
    "import sparseml\n",
    "from sparseml.pytorch.models import ModelRegistry\n",
    "from sparseml.pytorch.optim import ScheduledModifierManager\n",
    "from sparseml.pytorch.utils import TensorBoardLogger, ModuleExporter, get_prunable_layers, tensor_sparsity\n",
    "\n",
    "from torch.utils.data import DataLoader\n",
    "from torch.nn import CrossEntropyLoss\n",
    "from torch.optim import Adam, RMSprop\n",
    "\n",
    "from torchvision import transforms\n",
    "from tqdm.auto import tqdm\n",
    "import math"
   ]
  },
  {
   "cell_type": "code",
   "execution_count": 2,
   "id": "01779bd5",
   "metadata": {},
   "outputs": [
    {
     "name": "stdout",
     "output_type": "stream",
     "text": [
      "1.12.1+cu116\n",
      "1.4.4\n"
     ]
    }
   ],
   "source": [
    "print(torch.__version__)\n",
    "print(sparseml.__version__)"
   ]
  },
  {
   "cell_type": "markdown",
   "id": "3a128dcc",
   "metadata": {},
   "source": [
    "## **Step 1: Setup Dataset**\n",
    "\n",
    "Oxford 102 Flower is an image classification dataset consisting of 102 flower categories. The flowers were chosen to be flowers commonly occurring in the United Kingdom. Each class consists of between 40 and 258 images. The images have large scale, pose and light variations. In addition, there are categories that have large variations within the category, and several very similar categories.\n",
    "\n",
    "We use the standard PyTorch `datasets` and `dataloaders` to manage the dataset."
   ]
  },
  {
   "cell_type": "code",
   "execution_count": 3,
   "id": "7d180bbc",
   "metadata": {},
   "outputs": [],
   "source": [
    "NUM_LABELS = 102\n",
    "BATCH_SIZE = 32\n",
    "CROP_SIZE = 240\n",
    "RESIZE_SIZE = 256\n",
    "INTERPOLATION = transforms.InterpolationMode.BICUBIC\n",
    "IN_MEAN = [0.485, 0.456, 0.406]\n",
    "IN_STD = [0.229, 0.224, 0.225]\n",
    "\n",
    "# imagenet transforms\n",
    "train_transforms = transforms.Compose([\n",
    "    transforms.RandomResizedCrop(CROP_SIZE, interpolation=INTERPOLATION),\n",
    "    transforms.autoaugment.TrivialAugmentWide(interpolation=INTERPOLATION),\n",
    "    transforms.PILToTensor(),\n",
    "    transforms.ConvertImageDtype(torch.float),\n",
    "    transforms.Normalize(mean=IN_MEAN, std=IN_STD),\n",
    "    transforms.RandomErasing(p=.1)\n",
    "])\n",
    "\n",
    "val_transforms = transforms.Compose([\n",
    "    transforms.Resize(RESIZE_SIZE, interpolation=INTERPOLATION),\n",
    "    transforms.CenterCrop(CROP_SIZE),\n",
    "    transforms.PILToTensor(),\n",
    "    transforms.ConvertImageDtype(torch.float),\n",
    "    transforms.Normalize(mean=IN_MEAN, std=IN_STD),\n",
    "])\n",
    "\n",
    "# datasets\n",
    "train_dataset = torchvision.datasets.Flowers102(\n",
    "    root=\"./data\",\n",
    "    split=\"train\",\n",
    "    transform=train_transforms,\n",
    "    download=True\n",
    ")\n",
    "\n",
    "val_dataset = torchvision.datasets.Flowers102(\n",
    "    root=\"./data\",\n",
    "    split=\"val\",\n",
    "    transform=val_transforms,\n",
    "    download=True\n",
    ")\n",
    "\n",
    "# dataloaders\n",
    "train_loader = DataLoader(train_dataset, BATCH_SIZE, shuffle=True, pin_memory=True, num_workers=16)\n",
    "val_loader = DataLoader(val_dataset, BATCH_SIZE, shuffle=False, pin_memory=True, num_workers=16)"
   ]
  },
  {
   "cell_type": "markdown",
   "id": "890cca4a",
   "metadata": {},
   "source": [
    "## Step 2: Setup PyTorch Training Loop\n",
    "\n",
    "We will use this training loop below. This is standard PyTorch functionality."
   ]
  },
  {
   "cell_type": "code",
   "execution_count": 4,
   "id": "5f1b878a",
   "metadata": {},
   "outputs": [
    {
     "name": "stdout",
     "output_type": "stream",
     "text": [
      "cuda:1\n"
     ]
    }
   ],
   "source": [
    "device = \"cuda:1\" if torch.cuda.is_available() else \"cpu\"\n",
    "print(device)\n",
    "\n",
    "def run_model_one_epoch(model, data_loader, criterion, device, train=False, optimizer=None):\n",
    "    if train:\n",
    "        model.train()\n",
    "    else:\n",
    "        model.eval()\n",
    "\n",
    "    running_loss = 0.0\n",
    "    total_correct = 0\n",
    "    total_predictions = 0\n",
    "\n",
    "    # loop through batches\n",
    "    for step, (inputs, labels) in tqdm(enumerate(data_loader), total=len(data_loader)):\n",
    "        inputs = inputs.to(device)\n",
    "        labels = labels.to(device)\n",
    "\n",
    "        if train:\n",
    "            optimizer.zero_grad()\n",
    "\n",
    "        # compute loss, run backpropogation\n",
    "        outputs, _ = model(inputs)  # model returns logits\n",
    "        loss = criterion(outputs, labels)\n",
    "        if train:\n",
    "            loss.backward()\n",
    "            optimizer.step()\n",
    "\n",
    "        running_loss += loss.item()\n",
    "\n",
    "        # run evaluation\n",
    "        predictions = outputs.argmax(dim=1)\n",
    "        total_correct += torch.sum(predictions == labels).item()\n",
    "        total_predictions += inputs.size(0)\n",
    "\n",
    "    # return loss and evaluation metric\n",
    "    loss = running_loss / (step + 1.0)\n",
    "    accuracy = total_correct / total_predictions\n",
    "    return loss, accuracy"
   ]
  },
  {
   "cell_type": "markdown",
   "id": "b385497a",
   "metadata": {},
   "source": [
    "## **Step 3: Train EfficientNetv2s on Flowers102**\n",
    "\n",
    "First, we will train a dense version of EfficientNet on the Flowers dataset."
   ]
  },
  {
   "cell_type": "code",
   "execution_count": 5,
   "id": "4d554578",
   "metadata": {
    "scrolled": true
   },
   "outputs": [],
   "source": [
    "# download pre-trained model, setup classification head\n",
    "ZOO_STUB = \"zoo:cv/classification/efficientnet-b1/pytorch/sparseml/imagenet/base-none\"\n",
    "\n",
    "model = ModelRegistry.create(\n",
    "    key=\"efficientnet-b1\",\n",
    "    pretrained_path=ZOO_STUB,\n",
    "    num_classes=NUM_LABELS,\n",
    ")\n",
    "\n",
    "model.to(device)\n",
    "\n",
    "# setup loss function and optimizer\n",
    "criterion = CrossEntropyLoss(label_smoothing=0.1)\n",
    "optimizer = RMSprop(model.parameters(), lr=8e-3) # lr will be override by sparseml"
   ]
  },
  {
   "cell_type": "code",
   "execution_count": 6,
   "id": "ed9b4f6a",
   "metadata": {},
   "outputs": [
    {
     "name": "stdout",
     "output_type": "stream",
     "text": [
      "# Epoch and Learning-Rate variables\r\n",
      "num_epochs: 20.0\r\n",
      "init_lr: 0.001\r\n",
      "final_lr: 0.0001\r\n",
      "\r\n",
      "training_modifiers:\r\n",
      "  - !EpochRangeModifier\r\n",
      "    start_epoch: 0.0\r\n",
      "    end_epoch: eval(num_epochs)\r\n",
      "\r\n",
      "  - !LearningRateFunctionModifier\r\n",
      "    final_lr: eval(final_lr)\r\n",
      "    init_lr: eval(init_lr)\r\n",
      "    lr_func: cosine\r\n",
      "    start_epoch: 0.0\r\n",
      "    end_epoch: eval(num_epochs)\r\n"
     ]
    }
   ],
   "source": [
    "!cat ../recipe.dense.yaml"
   ]
  },
  {
   "cell_type": "code",
   "execution_count": 7,
   "id": "dd836816",
   "metadata": {},
   "outputs": [],
   "source": [
    "dense_recipe_path = \"../recipe.dense.yaml\""
   ]
  },
  {
   "cell_type": "code",
   "execution_count": 8,
   "id": "1749e00d",
   "metadata": {},
   "outputs": [
    {
     "name": "stderr",
     "output_type": "stream",
     "text": [
      "2023-04-06 18:24:16 sparseml.pytorch.utils.logger INFO     Logging all SparseML modifier-level logs to sparse_logs/06-04-2023_18.24.16.log\n",
      "INFO:sparseml.pytorch.utils.logger:Logging all SparseML modifier-level logs to sparse_logs/06-04-2023_18.24.16.log\n"
     ]
    }
   ],
   "source": [
    "# create ScheduledModifierManager and Optimizer wrapper\n",
    "manager = ScheduledModifierManager.from_yaml(dense_recipe_path)\n",
    "optimizer = manager.modify(model, optimizer, steps_per_epoch=len(train_loader))"
   ]
  },
  {
   "cell_type": "code",
   "execution_count": 9,
   "id": "d00d175b",
   "metadata": {
    "scrolled": false
   },
   "outputs": [
    {
     "name": "stdout",
     "output_type": "stream",
     "text": [
      "Running Training Epoch 1/20\n"
     ]
    },
    {
     "data": {
      "application/vnd.jupyter.widget-view+json": {
       "model_id": "cc901e1fcdc14536bcfa3bb98dfd2330",
       "version_major": 2,
       "version_minor": 0
      },
      "text/plain": [
       "  0%|          | 0/32 [00:00<?, ?it/s]"
      ]
     },
     "metadata": {},
     "output_type": "display_data"
    },
    {
     "name": "stdout",
     "output_type": "stream",
     "text": [
      "Training Epoch: 1/20\n",
      "Training Loss: 4.4801114201545715\n",
      "Top 1 Acc: 0.04607843137254902\n",
      "\n",
      "Running Validation Epoch 1/20\n"
     ]
    },
    {
     "data": {
      "application/vnd.jupyter.widget-view+json": {
       "model_id": "3802090212cd45f0bb1ed9cad6e3a825",
       "version_major": 2,
       "version_minor": 0
      },
      "text/plain": [
       "  0%|          | 0/32 [00:00<?, ?it/s]"
      ]
     },
     "metadata": {},
     "output_type": "display_data"
    },
    {
     "name": "stdout",
     "output_type": "stream",
     "text": [
      "Validation Epoch: 1/20\n",
      "Val Loss: 6.156083934009075\n",
      "Top 1 Acc: 0.08333333333333333\n",
      "\n",
      "Running Training Epoch 2/20\n"
     ]
    },
    {
     "data": {
      "application/vnd.jupyter.widget-view+json": {
       "model_id": "764cd53b58894631ad190ca9d993ef6f",
       "version_major": 2,
       "version_minor": 0
      },
      "text/plain": [
       "  0%|          | 0/32 [00:00<?, ?it/s]"
      ]
     },
     "metadata": {},
     "output_type": "display_data"
    },
    {
     "name": "stdout",
     "output_type": "stream",
     "text": [
      "Training Epoch: 2/20\n",
      "Training Loss: 3.4624276012182236\n",
      "Top 1 Acc: 0.23431372549019608\n",
      "\n",
      "Running Validation Epoch 2/20\n"
     ]
    },
    {
     "data": {
      "application/vnd.jupyter.widget-view+json": {
       "model_id": "fabcbc6f9d5f4231ad816507dd22125a",
       "version_major": 2,
       "version_minor": 0
      },
      "text/plain": [
       "  0%|          | 0/32 [00:00<?, ?it/s]"
      ]
     },
     "metadata": {},
     "output_type": "display_data"
    },
    {
     "name": "stdout",
     "output_type": "stream",
     "text": [
      "Validation Epoch: 2/20\n",
      "Val Loss: 2.7912555411458015\n",
      "Top 1 Acc: 0.3519607843137255\n",
      "\n",
      "Running Training Epoch 3/20\n"
     ]
    },
    {
     "data": {
      "application/vnd.jupyter.widget-view+json": {
       "model_id": "6d5e2b2896d943a2bb21efe2d0f5689a",
       "version_major": 2,
       "version_minor": 0
      },
      "text/plain": [
       "  0%|          | 0/32 [00:00<?, ?it/s]"
      ]
     },
     "metadata": {},
     "output_type": "display_data"
    },
    {
     "name": "stdout",
     "output_type": "stream",
     "text": [
      "Training Epoch: 3/20\n",
      "Training Loss: 2.54279213398695\n",
      "Top 1 Acc: 0.4715686274509804\n",
      "\n",
      "Running Validation Epoch 3/20\n"
     ]
    },
    {
     "data": {
      "application/vnd.jupyter.widget-view+json": {
       "model_id": "af6e0457abc14179b15a50d4a7735068",
       "version_major": 2,
       "version_minor": 0
      },
      "text/plain": [
       "  0%|          | 0/32 [00:00<?, ?it/s]"
      ]
     },
     "metadata": {},
     "output_type": "display_data"
    },
    {
     "name": "stdout",
     "output_type": "stream",
     "text": [
      "Validation Epoch: 3/20\n",
      "Val Loss: 1.981403086334467\n",
      "Top 1 Acc: 0.6558823529411765\n",
      "\n",
      "Running Training Epoch 4/20\n"
     ]
    },
    {
     "data": {
      "application/vnd.jupyter.widget-view+json": {
       "model_id": "552ac8e029d346eda688f0cdf0aac7b9",
       "version_major": 2,
       "version_minor": 0
      },
      "text/plain": [
       "  0%|          | 0/32 [00:00<?, ?it/s]"
      ]
     },
     "metadata": {},
     "output_type": "display_data"
    },
    {
     "name": "stdout",
     "output_type": "stream",
     "text": [
      "Training Epoch: 4/20\n",
      "Training Loss: 2.0715203434228897\n",
      "Top 1 Acc: 0.6372549019607843\n",
      "\n",
      "Running Validation Epoch 4/20\n"
     ]
    },
    {
     "data": {
      "application/vnd.jupyter.widget-view+json": {
       "model_id": "956baca6950c4cbbbb8972b103f306fc",
       "version_major": 2,
       "version_minor": 0
      },
      "text/plain": [
       "  0%|          | 0/32 [00:00<?, ?it/s]"
      ]
     },
     "metadata": {},
     "output_type": "display_data"
    },
    {
     "name": "stdout",
     "output_type": "stream",
     "text": [
      "Validation Epoch: 4/20\n",
      "Val Loss: 1.7747747823596\n",
      "Top 1 Acc: 0.7205882352941176\n",
      "\n",
      "Running Training Epoch 5/20\n"
     ]
    },
    {
     "data": {
      "application/vnd.jupyter.widget-view+json": {
       "model_id": "efa73f3729264410b8c4c2124acf14e9",
       "version_major": 2,
       "version_minor": 0
      },
      "text/plain": [
       "  0%|          | 0/32 [00:00<?, ?it/s]"
      ]
     },
     "metadata": {},
     "output_type": "display_data"
    },
    {
     "name": "stdout",
     "output_type": "stream",
     "text": [
      "Training Epoch: 5/20\n",
      "Training Loss: 1.7515205591917038\n",
      "Top 1 Acc: 0.7421568627450981\n",
      "\n",
      "Running Validation Epoch 5/20\n"
     ]
    },
    {
     "data": {
      "application/vnd.jupyter.widget-view+json": {
       "model_id": "c9941f86457d44fcaaac8e8a169bed07",
       "version_major": 2,
       "version_minor": 0
      },
      "text/plain": [
       "  0%|          | 0/32 [00:00<?, ?it/s]"
      ]
     },
     "metadata": {},
     "output_type": "display_data"
    },
    {
     "name": "stdout",
     "output_type": "stream",
     "text": [
      "Validation Epoch: 5/20\n",
      "Val Loss: 1.6067880429327488\n",
      "Top 1 Acc: 0.7754901960784314\n",
      "\n",
      "Running Training Epoch 6/20\n"
     ]
    },
    {
     "data": {
      "application/vnd.jupyter.widget-view+json": {
       "model_id": "e8da640ebd744d848ccecaac48397399",
       "version_major": 2,
       "version_minor": 0
      },
      "text/plain": [
       "  0%|          | 0/32 [00:00<?, ?it/s]"
      ]
     },
     "metadata": {},
     "output_type": "display_data"
    },
    {
     "name": "stdout",
     "output_type": "stream",
     "text": [
      "Training Epoch: 6/20\n",
      "Training Loss: 1.565021213144064\n",
      "Top 1 Acc: 0.8225490196078431\n",
      "\n",
      "Running Validation Epoch 6/20\n"
     ]
    },
    {
     "data": {
      "application/vnd.jupyter.widget-view+json": {
       "model_id": "8b27e59c999349c4978dcfde89c0f408",
       "version_major": 2,
       "version_minor": 0
      },
      "text/plain": [
       "  0%|          | 0/32 [00:00<?, ?it/s]"
      ]
     },
     "metadata": {},
     "output_type": "display_data"
    },
    {
     "name": "stdout",
     "output_type": "stream",
     "text": [
      "Validation Epoch: 6/20\n",
      "Val Loss: 1.447959542274475\n",
      "Top 1 Acc: 0.8245098039215686\n",
      "\n",
      "Running Training Epoch 7/20\n"
     ]
    },
    {
     "data": {
      "application/vnd.jupyter.widget-view+json": {
       "model_id": "d515ac55d62d468e887de619f6aeac0e",
       "version_major": 2,
       "version_minor": 0
      },
      "text/plain": [
       "  0%|          | 0/32 [00:00<?, ?it/s]"
      ]
     },
     "metadata": {},
     "output_type": "display_data"
    },
    {
     "name": "stdout",
     "output_type": "stream",
     "text": [
      "Training Epoch: 7/20\n",
      "Training Loss: 1.4621017798781395\n",
      "Top 1 Acc: 0.8431372549019608\n",
      "\n",
      "Running Validation Epoch 7/20\n"
     ]
    },
    {
     "data": {
      "application/vnd.jupyter.widget-view+json": {
       "model_id": "f3d859a332ab452a8e0b1db442804e23",
       "version_major": 2,
       "version_minor": 0
      },
      "text/plain": [
       "  0%|          | 0/32 [00:00<?, ?it/s]"
      ]
     },
     "metadata": {},
     "output_type": "display_data"
    },
    {
     "name": "stdout",
     "output_type": "stream",
     "text": [
      "Validation Epoch: 7/20\n",
      "Val Loss: 1.3863703589886427\n",
      "Top 1 Acc: 0.8480392156862745\n",
      "\n",
      "Running Training Epoch 8/20\n"
     ]
    },
    {
     "data": {
      "application/vnd.jupyter.widget-view+json": {
       "model_id": "c56bccc90e104c898be6f91055f95034",
       "version_major": 2,
       "version_minor": 0
      },
      "text/plain": [
       "  0%|          | 0/32 [00:00<?, ?it/s]"
      ]
     },
     "metadata": {},
     "output_type": "display_data"
    },
    {
     "name": "stdout",
     "output_type": "stream",
     "text": [
      "Training Epoch: 8/20\n",
      "Training Loss: 1.3518884666264057\n",
      "Top 1 Acc: 0.8607843137254902\n",
      "\n",
      "Running Validation Epoch 8/20\n"
     ]
    },
    {
     "data": {
      "application/vnd.jupyter.widget-view+json": {
       "model_id": "e13cb91fa7ee4514a3b9c48f88683a2b",
       "version_major": 2,
       "version_minor": 0
      },
      "text/plain": [
       "  0%|          | 0/32 [00:00<?, ?it/s]"
      ]
     },
     "metadata": {},
     "output_type": "display_data"
    },
    {
     "name": "stdout",
     "output_type": "stream",
     "text": [
      "Validation Epoch: 8/20\n",
      "Val Loss: 1.3022270128130913\n",
      "Top 1 Acc: 0.8735294117647059\n",
      "\n",
      "Running Training Epoch 9/20\n"
     ]
    },
    {
     "data": {
      "application/vnd.jupyter.widget-view+json": {
       "model_id": "2edba43cc33f46bab313ccc382f13015",
       "version_major": 2,
       "version_minor": 0
      },
      "text/plain": [
       "  0%|          | 0/32 [00:00<?, ?it/s]"
      ]
     },
     "metadata": {},
     "output_type": "display_data"
    },
    {
     "name": "stdout",
     "output_type": "stream",
     "text": [
      "Training Epoch: 9/20\n",
      "Training Loss: 1.2652370445430279\n",
      "Top 1 Acc: 0.8911764705882353\n",
      "\n",
      "Running Validation Epoch 9/20\n"
     ]
    },
    {
     "data": {
      "application/vnd.jupyter.widget-view+json": {
       "model_id": "25d3b1c9106d4b43b9e402e31a4bc7ed",
       "version_major": 2,
       "version_minor": 0
      },
      "text/plain": [
       "  0%|          | 0/32 [00:00<?, ?it/s]"
      ]
     },
     "metadata": {},
     "output_type": "display_data"
    },
    {
     "name": "stdout",
     "output_type": "stream",
     "text": [
      "Validation Epoch: 9/20\n",
      "Val Loss: 1.2661871016025543\n",
      "Top 1 Acc: 0.8950980392156863\n",
      "\n",
      "Running Training Epoch 10/20\n"
     ]
    },
    {
     "data": {
      "application/vnd.jupyter.widget-view+json": {
       "model_id": "2ce4782c45ac41299c2d0ea97f95cd38",
       "version_major": 2,
       "version_minor": 0
      },
      "text/plain": [
       "  0%|          | 0/32 [00:00<?, ?it/s]"
      ]
     },
     "metadata": {},
     "output_type": "display_data"
    },
    {
     "name": "stdout",
     "output_type": "stream",
     "text": [
      "Training Epoch: 10/20\n",
      "Training Loss: 1.2551480904221535\n",
      "Top 1 Acc: 0.884313725490196\n",
      "\n",
      "Running Validation Epoch 10/20\n"
     ]
    },
    {
     "data": {
      "application/vnd.jupyter.widget-view+json": {
       "model_id": "bb753b7ddf7842a38099a0a16e6a513a",
       "version_major": 2,
       "version_minor": 0
      },
      "text/plain": [
       "  0%|          | 0/32 [00:00<?, ?it/s]"
      ]
     },
     "metadata": {},
     "output_type": "display_data"
    },
    {
     "name": "stdout",
     "output_type": "stream",
     "text": [
      "Validation Epoch: 10/20\n",
      "Val Loss: 1.2433946020901203\n",
      "Top 1 Acc: 0.9\n",
      "\n",
      "Running Training Epoch 11/20\n"
     ]
    },
    {
     "data": {
      "application/vnd.jupyter.widget-view+json": {
       "model_id": "deb17769b831491ba209e56f3c7b2815",
       "version_major": 2,
       "version_minor": 0
      },
      "text/plain": [
       "  0%|          | 0/32 [00:00<?, ?it/s]"
      ]
     },
     "metadata": {},
     "output_type": "display_data"
    },
    {
     "name": "stdout",
     "output_type": "stream",
     "text": [
      "Training Epoch: 11/20\n",
      "Training Loss: 1.1810289807617664\n",
      "Top 1 Acc: 0.9147058823529411\n",
      "\n",
      "Running Validation Epoch 11/20\n"
     ]
    },
    {
     "data": {
      "application/vnd.jupyter.widget-view+json": {
       "model_id": "60fb6a64f4c0450a998fd17ba24fcd69",
       "version_major": 2,
       "version_minor": 0
      },
      "text/plain": [
       "  0%|          | 0/32 [00:00<?, ?it/s]"
      ]
     },
     "metadata": {},
     "output_type": "display_data"
    },
    {
     "name": "stdout",
     "output_type": "stream",
     "text": [
      "Validation Epoch: 11/20\n",
      "Val Loss: 1.2338924258947372\n",
      "Top 1 Acc: 0.8921568627450981\n",
      "\n",
      "Running Training Epoch 12/20\n"
     ]
    },
    {
     "data": {
      "application/vnd.jupyter.widget-view+json": {
       "model_id": "a776074789004d5380be291c125bff90",
       "version_major": 2,
       "version_minor": 0
      },
      "text/plain": [
       "  0%|          | 0/32 [00:00<?, ?it/s]"
      ]
     },
     "metadata": {},
     "output_type": "display_data"
    },
    {
     "name": "stdout",
     "output_type": "stream",
     "text": [
      "Training Epoch: 12/20\n",
      "Training Loss: 1.1727205365896225\n",
      "Top 1 Acc: 0.9215686274509803\n",
      "\n",
      "Running Validation Epoch 12/20\n"
     ]
    },
    {
     "data": {
      "application/vnd.jupyter.widget-view+json": {
       "model_id": "de19ed8aa82f4b6bbf1050364d0a3edf",
       "version_major": 2,
       "version_minor": 0
      },
      "text/plain": [
       "  0%|          | 0/32 [00:00<?, ?it/s]"
      ]
     },
     "metadata": {},
     "output_type": "display_data"
    },
    {
     "name": "stdout",
     "output_type": "stream",
     "text": [
      "Validation Epoch: 12/20\n",
      "Val Loss: 1.1792064141482115\n",
      "Top 1 Acc: 0.907843137254902\n",
      "\n",
      "Running Training Epoch 13/20\n"
     ]
    },
    {
     "data": {
      "application/vnd.jupyter.widget-view+json": {
       "model_id": "710d16d54ce341ec95bee946c3afa154",
       "version_major": 2,
       "version_minor": 0
      },
      "text/plain": [
       "  0%|          | 0/32 [00:00<?, ?it/s]"
      ]
     },
     "metadata": {},
     "output_type": "display_data"
    },
    {
     "name": "stdout",
     "output_type": "stream",
     "text": [
      "Training Epoch: 13/20\n",
      "Training Loss: 1.1652562860399485\n",
      "Top 1 Acc: 0.9127450980392157\n",
      "\n",
      "Running Validation Epoch 13/20\n"
     ]
    },
    {
     "data": {
      "application/vnd.jupyter.widget-view+json": {
       "model_id": "2423cba239ba43879161b5f8a6b0693a",
       "version_major": 2,
       "version_minor": 0
      },
      "text/plain": [
       "  0%|          | 0/32 [00:00<?, ?it/s]"
      ]
     },
     "metadata": {},
     "output_type": "display_data"
    },
    {
     "name": "stdout",
     "output_type": "stream",
     "text": [
      "Validation Epoch: 13/20\n",
      "Val Loss: 1.1808396149426699\n",
      "Top 1 Acc: 0.9019607843137255\n",
      "\n",
      "Running Training Epoch 14/20\n"
     ]
    },
    {
     "data": {
      "application/vnd.jupyter.widget-view+json": {
       "model_id": "f415101b4e834830aac46e90fc5d9544",
       "version_major": 2,
       "version_minor": 0
      },
      "text/plain": [
       "  0%|          | 0/32 [00:00<?, ?it/s]"
      ]
     },
     "metadata": {},
     "output_type": "display_data"
    },
    {
     "name": "stdout",
     "output_type": "stream",
     "text": [
      "Training Epoch: 14/20\n",
      "Training Loss: 1.14595115929842\n",
      "Top 1 Acc: 0.9333333333333333\n",
      "\n",
      "Running Validation Epoch 14/20\n"
     ]
    },
    {
     "data": {
      "application/vnd.jupyter.widget-view+json": {
       "model_id": "23bb8bf875f24252bd9b78a96ea5e09b",
       "version_major": 2,
       "version_minor": 0
      },
      "text/plain": [
       "  0%|          | 0/32 [00:00<?, ?it/s]"
      ]
     },
     "metadata": {},
     "output_type": "display_data"
    },
    {
     "name": "stdout",
     "output_type": "stream",
     "text": [
      "Validation Epoch: 14/20\n",
      "Val Loss: 1.1687483321875334\n",
      "Top 1 Acc: 0.9058823529411765\n",
      "\n",
      "Running Training Epoch 15/20\n"
     ]
    },
    {
     "data": {
      "application/vnd.jupyter.widget-view+json": {
       "model_id": "b74690d075cb4173bf90d7d7031219cc",
       "version_major": 2,
       "version_minor": 0
      },
      "text/plain": [
       "  0%|          | 0/32 [00:00<?, ?it/s]"
      ]
     },
     "metadata": {},
     "output_type": "display_data"
    },
    {
     "name": "stdout",
     "output_type": "stream",
     "text": [
      "Training Epoch: 15/20\n",
      "Training Loss: 1.12690051458776\n",
      "Top 1 Acc: 0.9313725490196079\n",
      "\n",
      "Running Validation Epoch 15/20\n"
     ]
    },
    {
     "data": {
      "application/vnd.jupyter.widget-view+json": {
       "model_id": "a62e4fe4e49742fe8fc165078a2cff98",
       "version_major": 2,
       "version_minor": 0
      },
      "text/plain": [
       "  0%|          | 0/32 [00:00<?, ?it/s]"
      ]
     },
     "metadata": {},
     "output_type": "display_data"
    },
    {
     "name": "stdout",
     "output_type": "stream",
     "text": [
      "Validation Epoch: 15/20\n",
      "Val Loss: 1.1451063640415668\n",
      "Top 1 Acc: 0.9245098039215687\n",
      "\n",
      "Running Training Epoch 16/20\n"
     ]
    },
    {
     "data": {
      "application/vnd.jupyter.widget-view+json": {
       "model_id": "e05b190896284aca96e7bde32790627e",
       "version_major": 2,
       "version_minor": 0
      },
      "text/plain": [
       "  0%|          | 0/32 [00:00<?, ?it/s]"
      ]
     },
     "metadata": {},
     "output_type": "display_data"
    },
    {
     "name": "stdout",
     "output_type": "stream",
     "text": [
      "Training Epoch: 16/20\n",
      "Training Loss: 1.122094664722681\n",
      "Top 1 Acc: 0.9294117647058824\n",
      "\n",
      "Running Validation Epoch 16/20\n"
     ]
    },
    {
     "data": {
      "application/vnd.jupyter.widget-view+json": {
       "model_id": "be925fb0da3a4bddb1980f76c8698a71",
       "version_major": 2,
       "version_minor": 0
      },
      "text/plain": [
       "  0%|          | 0/32 [00:00<?, ?it/s]"
      ]
     },
     "metadata": {},
     "output_type": "display_data"
    },
    {
     "name": "stdout",
     "output_type": "stream",
     "text": [
      "Validation Epoch: 16/20\n",
      "Val Loss: 1.1377974078059196\n",
      "Top 1 Acc: 0.9235294117647059\n",
      "\n",
      "Running Training Epoch 17/20\n"
     ]
    },
    {
     "data": {
      "application/vnd.jupyter.widget-view+json": {
       "model_id": "5d9c551a5ca34680adea0fcfe5dc88a1",
       "version_major": 2,
       "version_minor": 0
      },
      "text/plain": [
       "  0%|          | 0/32 [00:00<?, ?it/s]"
      ]
     },
     "metadata": {},
     "output_type": "display_data"
    },
    {
     "name": "stdout",
     "output_type": "stream",
     "text": [
      "Training Epoch: 17/20\n",
      "Training Loss: 1.0358950830996037\n",
      "Top 1 Acc: 0.9588235294117647\n",
      "\n",
      "Running Validation Epoch 17/20\n"
     ]
    },
    {
     "data": {
      "application/vnd.jupyter.widget-view+json": {
       "model_id": "ac92c0ee2eb341db83b816dbbf1b4256",
       "version_major": 2,
       "version_minor": 0
      },
      "text/plain": [
       "  0%|          | 0/32 [00:00<?, ?it/s]"
      ]
     },
     "metadata": {},
     "output_type": "display_data"
    },
    {
     "name": "stdout",
     "output_type": "stream",
     "text": [
      "Validation Epoch: 17/20\n",
      "Val Loss: 1.1366141978651285\n",
      "Top 1 Acc: 0.9294117647058824\n",
      "\n",
      "Running Training Epoch 18/20\n"
     ]
    },
    {
     "data": {
      "application/vnd.jupyter.widget-view+json": {
       "model_id": "65067aaf744042b1ab574555141e8963",
       "version_major": 2,
       "version_minor": 0
      },
      "text/plain": [
       "  0%|          | 0/32 [00:00<?, ?it/s]"
      ]
     },
     "metadata": {},
     "output_type": "display_data"
    },
    {
     "name": "stdout",
     "output_type": "stream",
     "text": [
      "Training Epoch: 18/20\n",
      "Training Loss: 1.0829532723873854\n",
      "Top 1 Acc: 0.9450980392156862\n",
      "\n",
      "Running Validation Epoch 18/20\n"
     ]
    },
    {
     "data": {
      "application/vnd.jupyter.widget-view+json": {
       "model_id": "78fc60e5d6ee4b50b8eabbbe46d904b1",
       "version_major": 2,
       "version_minor": 0
      },
      "text/plain": [
       "  0%|          | 0/32 [00:00<?, ?it/s]"
      ]
     },
     "metadata": {},
     "output_type": "display_data"
    },
    {
     "name": "stdout",
     "output_type": "stream",
     "text": [
      "Validation Epoch: 18/20\n",
      "Val Loss: 1.1273325141519308\n",
      "Top 1 Acc: 0.9235294117647059\n",
      "\n",
      "Running Training Epoch 19/20\n"
     ]
    },
    {
     "data": {
      "application/vnd.jupyter.widget-view+json": {
       "model_id": "1fa645cf638c4096b587228c8b5f8063",
       "version_major": 2,
       "version_minor": 0
      },
      "text/plain": [
       "  0%|          | 0/32 [00:00<?, ?it/s]"
      ]
     },
     "metadata": {},
     "output_type": "display_data"
    },
    {
     "name": "stdout",
     "output_type": "stream",
     "text": [
      "Training Epoch: 19/20\n",
      "Training Loss: 1.0940583441406488\n",
      "Top 1 Acc: 0.9392156862745098\n",
      "\n",
      "Running Validation Epoch 19/20\n"
     ]
    },
    {
     "data": {
      "application/vnd.jupyter.widget-view+json": {
       "model_id": "26a90970324047f7bdbcb76948419b0a",
       "version_major": 2,
       "version_minor": 0
      },
      "text/plain": [
       "  0%|          | 0/32 [00:00<?, ?it/s]"
      ]
     },
     "metadata": {},
     "output_type": "display_data"
    },
    {
     "name": "stdout",
     "output_type": "stream",
     "text": [
      "Validation Epoch: 19/20\n",
      "Val Loss: 1.1134563777595758\n",
      "Top 1 Acc: 0.9303921568627451\n",
      "\n",
      "Running Training Epoch 20/20\n"
     ]
    },
    {
     "data": {
      "application/vnd.jupyter.widget-view+json": {
       "model_id": "6a75a2f949af4b79a0fe08239059b095",
       "version_major": 2,
       "version_minor": 0
      },
      "text/plain": [
       "  0%|          | 0/32 [00:00<?, ?it/s]"
      ]
     },
     "metadata": {},
     "output_type": "display_data"
    },
    {
     "name": "stdout",
     "output_type": "stream",
     "text": [
      "Training Epoch: 20/20\n",
      "Training Loss: 1.0575630385428667\n",
      "Top 1 Acc: 0.9558823529411765\n",
      "\n",
      "Running Validation Epoch 20/20\n"
     ]
    },
    {
     "data": {
      "application/vnd.jupyter.widget-view+json": {
       "model_id": "5cd1480f80904655ac28ff5235cd8e94",
       "version_major": 2,
       "version_minor": 0
      },
      "text/plain": [
       "  0%|          | 0/32 [00:00<?, ?it/s]"
      ]
     },
     "metadata": {},
     "output_type": "display_data"
    },
    {
     "name": "stdout",
     "output_type": "stream",
     "text": [
      "Validation Epoch: 20/20\n",
      "Val Loss: 1.1045657861977816\n",
      "Top 1 Acc: 0.9333333333333333\n",
      "\n"
     ]
    }
   ],
   "source": [
    "epoch = 0\n",
    "for epoch in range(manager.max_epochs):\n",
    "    # run training loop\n",
    "    epoch_name = f\"{epoch + 1}/{manager.max_epochs}\"\n",
    "    \n",
    "    print(f\"Running Training Epoch {epoch_name}\")\n",
    "    train_loss, train_acc = run_model_one_epoch(model, train_loader, criterion, device, train=True, optimizer=optimizer)\n",
    "    print(f\"Training Epoch: {epoch_name}\\nTraining Loss: {train_loss}\\nTop 1 Acc: {train_acc}\\n\")\n",
    "\n",
    "    # run validation loop\n",
    "    print(f\"Running Validation Epoch {epoch_name}\")\n",
    "    val_loss, val_acc = run_model_one_epoch(model, val_loader, criterion, device)\n",
    "    print(f\"Validation Epoch: {epoch_name}\\nVal Loss: {val_loss}\\nTop 1 Acc: {val_acc}\\n\")\n",
    "\n",
    "# clean up\n",
    "manager.finalize(model)"
   ]
  },
  {
   "cell_type": "markdown",
   "id": "1eb3d14e",
   "metadata": {},
   "source": [
    "Export the model in case we want to reload in the future, so we do not have to rerun."
   ]
  },
  {
   "cell_type": "code",
   "execution_count": 10,
   "id": "e6c6be4e",
   "metadata": {},
   "outputs": [],
   "source": [
    "save_dir = \"efficientnet-models-flowers\"\n",
    "model_name = \"b1-dense-model.pth\""
   ]
  },
  {
   "cell_type": "code",
   "execution_count": 11,
   "id": "11fa4cf2",
   "metadata": {},
   "outputs": [
    {
     "name": "stderr",
     "output_type": "stream",
     "text": [
      "/home/ubuntu/rshaw/python-venvs/sparseml-env/lib/python3.8/site-packages/torch/onnx/utils.py:439: UserWarning: It is recommended that constant folding be turned off ('do_constant_folding=False') when exporting the model in training-amenable mode, i.e. with 'training=TrainingMode.TRAIN' or 'training=TrainingMode.PRESERVE' (when model is in training mode). Otherwise, some learnable model parameters may not translate correctly in the exported ONNX model because constant folding mutates model parameters. Please consider turning off constant folding or setting the training=TrainingMode.EVAL.\n",
      "  warnings.warn(\n"
     ]
    }
   ],
   "source": [
    "exporter = ModuleExporter(model, output_dir=save_dir)\n",
    "exporter.export_pytorch(name=\"b1-dense-model.pth\")\n",
    "exporter.export_onnx(torch.randn(1, 3, CROP_SIZE, CROP_SIZE), name=\"b1-dense-model.onnx\", convert_qat=True)"
   ]
  },
  {
   "cell_type": "code",
   "execution_count": 12,
   "id": "4532442e",
   "metadata": {},
   "outputs": [],
   "source": [
    "torch.cuda.empty_cache()"
   ]
  },
  {
   "cell_type": "markdown",
   "id": "8a7d6309",
   "metadata": {},
   "source": [
    "## Step 4: Quantize The Model\n",
    "\n",
    "With a model trained on Flowers, we are now ready to apply the QAT algorithm to quantize the model."
   ]
  },
  {
   "cell_type": "code",
   "execution_count": 15,
   "id": "8447d074",
   "metadata": {},
   "outputs": [],
   "source": [
    "# SparseZoo stub to pre-trained sparse-quantized ResNet-50 for imagenet dataset\n",
    "model = ModelRegistry.create(\n",
    "    key=\"efficientnet-b1\",\n",
    "    pretrained_path=save_dir + \"/training/\" + model_name,\n",
    "    num_classes=NUM_LABELS,\n",
    ")\n",
    "\n",
    "model.to(device)\n",
    "\n",
    "# setup loss function and optimizer\n",
    "criterion = CrossEntropyLoss(label_smoothing=0.1)\n",
    "optimizer = RMSprop(model.parameters(), lr=8e-3) # lr will be override by sparseml"
   ]
  },
  {
   "cell_type": "code",
   "execution_count": 16,
   "id": "b8518b39",
   "metadata": {},
   "outputs": [],
   "source": [
    "quant_recipe_path = \"../recipe.quant.yaml\""
   ]
  },
  {
   "cell_type": "code",
   "execution_count": 17,
   "id": "9b17fc31",
   "metadata": {
    "scrolled": false
   },
   "outputs": [
    {
     "name": "stdout",
     "output_type": "stream",
     "text": [
      "# Epoch and Learning-Rate variables\r\n",
      "num_epochs: 6.0\r\n",
      "quantization_epochs: 5.0\r\n",
      "init_lr: 0.0001\r\n",
      "warmup_lr: 0.00001\r\n",
      "\r\n",
      "training_modifiers:\r\n",
      "  - !EpochRangeModifier\r\n",
      "    start_epoch: 0.0\r\n",
      "    end_epoch: eval(num_epochs)\r\n",
      "\r\n",
      "  - !SetLearningRateModifier\r\n",
      "    start_epoch: 0.0\r\n",
      "    learning_rate: eval(warmup_lr)   \r\n",
      "\r\n",
      "  - !LearningRateFunctionModifier\r\n",
      "    final_lr: 0.0\r\n",
      "    init_lr: eval(init_lr)\r\n",
      "    lr_func: cosine\r\n",
      "    start_epoch: eval(num_epochs-quantization_epochs)\r\n",
      "    end_epoch: eval(num_epochs)\r\n",
      "\r\n",
      "quantization_modifiers:\r\n",
      "  - !QuantizationModifier\r\n",
      "    start_epoch: eval(num_epochs - quantization_epochs)\r\n",
      "    ignore: ['classifier', 'AdaptiveAvgPool2d', 'Sigmoid', 'sections.1.0.spatial']\r\n",
      "    disable_quantization_observer_epoch: eval(num_epochs - 0.1)\r\n",
      "    freeze_bn_stats_epoch: eval(num_epochs - quantization_epochs)\r\n"
     ]
    }
   ],
   "source": [
    "!cat ../recipe.quant.yaml"
   ]
  },
  {
   "cell_type": "code",
   "execution_count": 18,
   "id": "68646bc7",
   "metadata": {},
   "outputs": [],
   "source": [
    "# create ScheduledModifierManager and Optimizer wrapper\n",
    "manager = ScheduledModifierManager.from_yaml(quant_recipe_path)\n",
    "logger = TensorBoardLogger(log_path=\"./tensorboard_outputs/efficientnet/quant-run\")\n",
    "optimizer = manager.modify(model, optimizer, loggers=[logger], steps_per_epoch=len(train_loader))"
   ]
  },
  {
   "cell_type": "code",
   "execution_count": 19,
   "id": "601c8c21",
   "metadata": {
    "scrolled": false
   },
   "outputs": [
    {
     "name": "stdout",
     "output_type": "stream",
     "text": [
      "Running Training Epoch 1/6\n"
     ]
    },
    {
     "data": {
      "application/vnd.jupyter.widget-view+json": {
       "model_id": "fbf533af78904a1593556b51abe1f0b5",
       "version_major": 2,
       "version_minor": 0
      },
      "text/plain": [
       "  0%|          | 0/32 [00:00<?, ?it/s]"
      ]
     },
     "metadata": {},
     "output_type": "display_data"
    },
    {
     "name": "stdout",
     "output_type": "stream",
     "text": [
      "Training Epoch: 1/6\n",
      "Training Loss: 1.0479964073747396\n",
      "Top 1 Acc: 0.9490196078431372\n",
      "\n",
      "Running Validation Epoch 1/6\n"
     ]
    },
    {
     "data": {
      "application/vnd.jupyter.widget-view+json": {
       "model_id": "06e18617432c425d8c9051704ac553b3",
       "version_major": 2,
       "version_minor": 0
      },
      "text/plain": [
       "  0%|          | 0/32 [00:00<?, ?it/s]"
      ]
     },
     "metadata": {},
     "output_type": "display_data"
    },
    {
     "name": "stdout",
     "output_type": "stream",
     "text": [
      "Validation Epoch: 1/6\n",
      "Val Loss: 1.0989590268582106\n",
      "Top 1 Acc: 0.9382352941176471\n",
      "\n",
      "Running Training Epoch 2/6\n"
     ]
    },
    {
     "data": {
      "application/vnd.jupyter.widget-view+json": {
       "model_id": "ac103f5cbee54c858381823aa1108a59",
       "version_major": 2,
       "version_minor": 0
      },
      "text/plain": [
       "  0%|          | 0/32 [00:00<?, ?it/s]"
      ]
     },
     "metadata": {},
     "output_type": "display_data"
    },
    {
     "name": "stdout",
     "output_type": "stream",
     "text": [
      "Training Epoch: 2/6\n",
      "Training Loss: 1.7036013696342707\n",
      "Top 1 Acc: 0.75\n",
      "\n",
      "Running Validation Epoch 2/6\n"
     ]
    },
    {
     "data": {
      "application/vnd.jupyter.widget-view+json": {
       "model_id": "d9d33ecee7b3475686aa0fa7774a9911",
       "version_major": 2,
       "version_minor": 0
      },
      "text/plain": [
       "  0%|          | 0/32 [00:00<?, ?it/s]"
      ]
     },
     "metadata": {},
     "output_type": "display_data"
    },
    {
     "name": "stdout",
     "output_type": "stream",
     "text": [
      "Validation Epoch: 2/6\n",
      "Val Loss: 1.292163461446762\n",
      "Top 1 Acc: 0.8705882352941177\n",
      "\n",
      "Running Training Epoch 3/6\n"
     ]
    },
    {
     "data": {
      "application/vnd.jupyter.widget-view+json": {
       "model_id": "c9f72f74217b4f4992bc0e3ab0ccf57f",
       "version_major": 2,
       "version_minor": 0
      },
      "text/plain": [
       "  0%|          | 0/32 [00:00<?, ?it/s]"
      ]
     },
     "metadata": {},
     "output_type": "display_data"
    },
    {
     "name": "stdout",
     "output_type": "stream",
     "text": [
      "Training Epoch: 3/6\n",
      "Training Loss: 1.1844023391604424\n",
      "Top 1 Acc: 0.9127450980392157\n",
      "\n",
      "Running Validation Epoch 3/6\n"
     ]
    },
    {
     "data": {
      "application/vnd.jupyter.widget-view+json": {
       "model_id": "29e1ba35867a45658cac03dc69202a3e",
       "version_major": 2,
       "version_minor": 0
      },
      "text/plain": [
       "  0%|          | 0/32 [00:00<?, ?it/s]"
      ]
     },
     "metadata": {},
     "output_type": "display_data"
    },
    {
     "name": "stdout",
     "output_type": "stream",
     "text": [
      "Validation Epoch: 3/6\n",
      "Val Loss: 1.2466791197657585\n",
      "Top 1 Acc: 0.884313725490196\n",
      "\n",
      "Running Training Epoch 4/6\n"
     ]
    },
    {
     "data": {
      "application/vnd.jupyter.widget-view+json": {
       "model_id": "77760774747742dd885dbf09a4b3c8bb",
       "version_major": 2,
       "version_minor": 0
      },
      "text/plain": [
       "  0%|          | 0/32 [00:00<?, ?it/s]"
      ]
     },
     "metadata": {},
     "output_type": "display_data"
    },
    {
     "name": "stdout",
     "output_type": "stream",
     "text": [
      "Training Epoch: 4/6\n",
      "Training Loss: 1.129274770617485\n",
      "Top 1 Acc: 0.9245098039215687\n",
      "\n",
      "Running Validation Epoch 4/6\n"
     ]
    },
    {
     "data": {
      "application/vnd.jupyter.widget-view+json": {
       "model_id": "9ed958be1d2c4c128bbab72f70938094",
       "version_major": 2,
       "version_minor": 0
      },
      "text/plain": [
       "  0%|          | 0/32 [00:00<?, ?it/s]"
      ]
     },
     "metadata": {},
     "output_type": "display_data"
    },
    {
     "name": "stdout",
     "output_type": "stream",
     "text": [
      "Validation Epoch: 4/6\n",
      "Val Loss: 1.1841304209083319\n",
      "Top 1 Acc: 0.9098039215686274\n",
      "\n",
      "Running Training Epoch 5/6\n"
     ]
    },
    {
     "data": {
      "application/vnd.jupyter.widget-view+json": {
       "model_id": "a70395ccf4db4bf88309bcdb2ccbcacc",
       "version_major": 2,
       "version_minor": 0
      },
      "text/plain": [
       "  0%|          | 0/32 [00:00<?, ?it/s]"
      ]
     },
     "metadata": {},
     "output_type": "display_data"
    },
    {
     "name": "stdout",
     "output_type": "stream",
     "text": [
      "Training Epoch: 5/6\n",
      "Training Loss: 1.1279195342212915\n",
      "Top 1 Acc: 0.9313725490196079\n",
      "\n",
      "Running Validation Epoch 5/6\n"
     ]
    },
    {
     "data": {
      "application/vnd.jupyter.widget-view+json": {
       "model_id": "8285b046a52d461392206542b0ce8443",
       "version_major": 2,
       "version_minor": 0
      },
      "text/plain": [
       "  0%|          | 0/32 [00:00<?, ?it/s]"
      ]
     },
     "metadata": {},
     "output_type": "display_data"
    },
    {
     "name": "stdout",
     "output_type": "stream",
     "text": [
      "Validation Epoch: 5/6\n",
      "Val Loss: 1.1864626351743937\n",
      "Top 1 Acc: 0.9107843137254902\n",
      "\n",
      "Running Training Epoch 6/6\n"
     ]
    },
    {
     "data": {
      "application/vnd.jupyter.widget-view+json": {
       "model_id": "bb94102e4fd540c2bc194ed412caf97f",
       "version_major": 2,
       "version_minor": 0
      },
      "text/plain": [
       "  0%|          | 0/32 [00:00<?, ?it/s]"
      ]
     },
     "metadata": {},
     "output_type": "display_data"
    },
    {
     "name": "stdout",
     "output_type": "stream",
     "text": [
      "Training Epoch: 6/6\n",
      "Training Loss: 1.110894814133644\n",
      "Top 1 Acc: 0.9362745098039216\n",
      "\n",
      "Running Validation Epoch 6/6\n"
     ]
    },
    {
     "data": {
      "application/vnd.jupyter.widget-view+json": {
       "model_id": "edfbb2da9bad47e2958b071d967529ea",
       "version_major": 2,
       "version_minor": 0
      },
      "text/plain": [
       "  0%|          | 0/32 [00:00<?, ?it/s]"
      ]
     },
     "metadata": {},
     "output_type": "display_data"
    },
    {
     "name": "stdout",
     "output_type": "stream",
     "text": [
      "Validation Epoch: 6/6\n",
      "Val Loss: 1.1804747302085161\n",
      "Top 1 Acc: 0.9127450980392157\n",
      "\n"
     ]
    }
   ],
   "source": [
    "# run QAT algorithm\n",
    "epoch = 0\n",
    "for epoch in range(manager.max_epochs):\n",
    "    # run training loop\n",
    "    epoch_name = f\"{epoch + 1}/{manager.max_epochs}\"\n",
    "    \n",
    "    print(f\"Running Training Epoch {epoch_name}\")\n",
    "    train_loss, train_acc = run_model_one_epoch(model, train_loader, criterion, device, train=True, optimizer=optimizer)\n",
    "    print(f\"Training Epoch: {epoch_name}\\nTraining Loss: {train_loss}\\nTop 1 Acc: {train_acc}\\n\")\n",
    "\n",
    "    # run validation loop\n",
    "    print(f\"Running Validation Epoch {epoch_name}\")\n",
    "    val_loss, val_acc = run_model_one_epoch(model, val_loader, criterion, device)\n",
    "    print(f\"Validation Epoch: {epoch_name}\\nVal Loss: {val_loss}\\nTop 1 Acc: {val_acc}\\n\")\n",
    "    \n",
    "    logger.log_scalar(\"Metrics/Loss (Train)\", train_loss, epoch)\n",
    "    logger.log_scalar(\"Metrics/Accuracy (Train)\", train_acc, epoch)\n",
    "    logger.log_scalar(\"Metrics/Loss (Validation)\", val_loss, epoch)\n",
    "    logger.log_scalar(\"Metrics/Accuracy (Validation)\", val_acc, epoch)\n",
    "\n",
    "manager.finalize(model)"
   ]
  },
  {
   "cell_type": "code",
   "execution_count": 21,
   "id": "44fb7550",
   "metadata": {},
   "outputs": [
    {
     "name": "stderr",
     "output_type": "stream",
     "text": [
      "2023-04-06 18:34:27 sparseml.pytorch.sparsification.quantization.quantize_qat_export INFO     Converted 113 quantizable Conv ops with weight and bias to ConvInteger and Add\n",
      "INFO:sparseml.pytorch.sparsification.quantization.quantize_qat_export:Converted 113 quantizable Conv ops with weight and bias to ConvInteger and Add\n",
      "2023-04-06 18:34:27 sparseml.pytorch.sparsification.quantization.quantize_qat_export INFO     Converted 0 quantizable Gemm ops with weight and bias to MatMulInteger and Add\n",
      "INFO:sparseml.pytorch.sparsification.quantization.quantize_qat_export:Converted 0 quantizable Gemm ops with weight and bias to MatMulInteger and Add\n"
     ]
    }
   ],
   "source": [
    "save_dir = \"efficientnet-models-flowers\"\n",
    "exporter = ModuleExporter(model, output_dir=save_dir)\n",
    "exporter.export_pytorch(name=\"b1-quant-model.pth\")\n",
    "exporter.export_onnx(torch.randn(1, 3, CROP_SIZE, CROP_SIZE), name=\"b1-quant-model.onnx\", convert_qat=True)"
   ]
  }
 ],
 "metadata": {
  "kernelspec": {
   "display_name": "sparseml-env",
   "language": "python",
   "name": "sparseml-env"
  },
  "language_info": {
   "codemirror_mode": {
    "name": "ipython",
    "version": 3
   },
   "file_extension": ".py",
   "mimetype": "text/x-python",
   "name": "python",
   "nbconvert_exporter": "python",
   "pygments_lexer": "ipython3",
   "version": "3.8.10"
  }
 },
 "nbformat": 4,
 "nbformat_minor": 5
}
